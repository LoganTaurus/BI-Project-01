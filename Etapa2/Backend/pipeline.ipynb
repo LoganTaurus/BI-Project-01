{
  "nbformat": 4,
  "nbformat_minor": 0,
  "metadata": {
    "colab": {
      "provenance": []
    },
    "kernelspec": {
      "name": "python3",
      "display_name": "Python 3"
    },
    "language_info": {
      "name": "python"
    }
  },
  "cells": [
    {
      "cell_type": "markdown",
      "source": [
        "# Pipeline"
      ],
      "metadata": {
        "id": "0yK4HCOPt506"
      }
    },
    {
      "cell_type": "code",
      "source": [
        "#Instalaciones\n",
        "import nltk\n",
        "\n",
        "import tabulate\n",
        "import pandas as pd\n",
        "import plotly.express as px\n",
        "from nltk.corpus import stopwords\n",
        "\n",
        "import re\n",
        "from typing_extensions import *\n",
        "from typing import *\n",
        "\n",
        "import numpy as np\n",
        "import pandas as pd\n",
        "import re\n",
        "import plotly.express as px\n",
        "\n",
        "\n",
        "from sklearn.metrics import accuracy_score\n",
        "from sklearn.metrics import recall_score\n",
        "from sklearn.metrics import f1_score\n",
        "from nltk.corpus import stopwords\n",
        "from nltk.stem import SnowballStemmer\n",
        "from sklearn.feature_extraction.text import TfidfVectorizer\n",
        "from sklearn.model_selection import train_test_split\n",
        "from sklearn.preprocessing import LabelEncoder\n",
        "from sklearn.feature_extraction.text import CountVectorizer\n",
        "from sklearn.feature_extraction.text import TfidfTransformer\n",
        "from sklearn.naive_bayes import MultinomialNB\n",
        "from sklearn.metrics import accuracy_score\n",
        "from nltk.stem import WordNetLemmatizer\n",
        "\n",
        "lemmatizer = WordNetLemmatizer()\n",
        "nltk.download('stopwords')\n",
        "nltk.download('stopwords')\n",
        "nltk.download('wordnet')\n",
        "\n",
        "import string\n",
        "\n",
        "from sklearn.pipeline import Pipeline\n",
        "from sklearn.base import BaseEstimator, TransformerMixin"
      ],
      "metadata": {
        "colab": {
          "base_uri": "https://localhost:8080/"
        },
        "id": "nWzeJWC7t5Jx",
        "outputId": "da2b51c5-d82a-4cfe-b3ab-a328879c7687"
      },
      "execution_count": 62,
      "outputs": [
        {
          "output_type": "stream",
          "name": "stderr",
          "text": [
            "[nltk_data] Downloading package stopwords to /root/nltk_data...\n",
            "[nltk_data]   Package stopwords is already up-to-date!\n",
            "[nltk_data] Downloading package stopwords to /root/nltk_data...\n",
            "[nltk_data]   Package stopwords is already up-to-date!\n",
            "[nltk_data] Downloading package wordnet to /root/nltk_data...\n",
            "[nltk_data]   Package wordnet is already up-to-date!\n"
          ]
        }
      ]
    },
    {
      "cell_type": "markdown",
      "source": [
        "# 1. Lectura de datos"
      ],
      "metadata": {
        "id": "81fSqzqSu1mu"
      }
    },
    {
      "cell_type": "code",
      "source": [
        "GITHUB_URL: Final[str] = 'https://raw.githubusercontent.com/LoganTaurus/DB-Project-01/main/'"
      ],
      "metadata": {
        "id": "KVasxc3ou56r"
      },
      "execution_count": 63,
      "outputs": []
    },
    {
      "cell_type": "markdown",
      "source": [
        "## Carga de datos de Entrenamiento"
      ],
      "metadata": {
        "id": "kSTJn-CM_7XA"
      }
    },
    {
      "cell_type": "code",
      "source": [
        "# Leer el archivo XLSX\n",
        "df = pd.read_excel(GITHUB_URL + 'ODScat-345.xlsx')\n",
        "\n",
        "# Si hay problemas de codificación, puedes intentar corregirlos\n",
        "df = df.applymap(lambda x: x.encode('latin1', errors='ignore').decode('utf-8', errors='ignore') if isinstance(x, str) else x)"
      ],
      "metadata": {
        "colab": {
          "base_uri": "https://localhost:8080/"
        },
        "id": "0juJoeiawDT9",
        "outputId": "1c8293a0-43fe-4085-e73c-12f5f8df12cb"
      },
      "execution_count": 64,
      "outputs": [
        {
          "output_type": "stream",
          "name": "stderr",
          "text": [
            "<ipython-input-64-9f84655360b9>:5: FutureWarning: DataFrame.applymap has been deprecated. Use DataFrame.map instead.\n",
            "  df = df.applymap(lambda x: x.encode('latin1', errors='ignore').decode('utf-8', errors='ignore') if isinstance(x, str) else x)\n"
          ]
        }
      ]
    },
    {
      "cell_type": "markdown",
      "source": [
        "## Carga de datos a predecir"
      ],
      "metadata": {
        "id": "XIKvK0cXADt0"
      }
    },
    {
      "cell_type": "code",
      "source": [
        "# Leer el archivo XLSX\n",
        "df_predecir = pd.read_excel(GITHUB_URL + 'TestODScat-345.xlsx')\n",
        "\n",
        "# Si hay problemas de codificación, puedes intentar corregirlos\n",
        "df_predecir = df_predecir.applymap(lambda x: x.encode('latin1', errors='ignore').decode('utf-8', errors='ignore') if isinstance(x, str) else x)"
      ],
      "metadata": {
        "id": "aq5qU4FiADE2",
        "colab": {
          "base_uri": "https://localhost:8080/"
        },
        "outputId": "979a26b3-b17d-42de-888d-fa9a93b413fd"
      },
      "execution_count": 65,
      "outputs": [
        {
          "output_type": "stream",
          "name": "stderr",
          "text": [
            "<ipython-input-65-7296460dce77>:5: FutureWarning: DataFrame.applymap has been deprecated. Use DataFrame.map instead.\n",
            "  df_predecir = df_predecir.applymap(lambda x: x.encode('latin1', errors='ignore').decode('utf-8', errors='ignore') if isinstance(x, str) else x)\n"
          ]
        }
      ]
    },
    {
      "cell_type": "markdown",
      "source": [
        "# 2. Construcción del pipeline"
      ],
      "metadata": {
        "id": "zGUhyzn7wID5"
      }
    },
    {
      "cell_type": "code",
      "source": [
        "# Clase personalizada para la limpieza de datos\n",
        "class CustomPreprocessor(BaseEstimator, TransformerMixin):\n",
        "    def __init__(self):\n",
        "        self.lemmatizer = WordNetLemmatizer()\n",
        "        self.stopwords = set(stopwords.words('spanish'))\n",
        "        fillerWord =  (\"Eh\",\"Mmm\",\"Pues\",\"Bueno\",\"Este\",\"Como\",\"Entonces\",\"O sea\",\"Tipo\",\"¿Sabes?\",\"En fin\",\"¿Entiendes?\",\"Vale\",\"La cosa es que\", \"¿Verdad?\")\n",
        "        self.fillerword_reg= r\"\\b(Eh|Mmm|Pues|Bueno|Este|Como|Entonces|O\\s+sea|Tipo|¿Sabes?|En\\s+fin|¿Entiendes?|Vale|La\\s+cosa\\s+es\\s+que|¿Verdad?)\\b\"\n",
        "        remove = [\"no\", \"ni\", \"tampoco\", \"jamás\", \"nunca\", \"nadie\", \"ninguno\", \"ningún\", \"nada\"]\n",
        "        for word in remove:\n",
        "            self.stopwords.discard(word)\n",
        "        self.stopwords.add(fillerWord)\n",
        "\n",
        "    def fit(self, X, y=None):\n",
        "        return self\n",
        "\n",
        "    def transform(self, X):\n",
        "        cleaned_data = []\n",
        "        for text in X:\n",
        "            rev = re.sub(\"#\", \"\", text)\n",
        "            rev = re.sub(r'^https?:\\/\\/.*[\\r\\n]*', '', rev, flags=re.MULTILINE)\n",
        "            html = re.compile(r'<.*?>')\n",
        "            rev = html.sub(r\"\", rev)\n",
        "            rev = re.sub(r'@\\w+', \"\", rev)\n",
        "            rev = re.sub(r'#\\w+', \"\", rev)\n",
        "            rev = re.sub(r'\\w+:\\/{2}[\\d\\w-]+(\\.[\\d\\w-]+)*(?:(?:\\/[^\\s/]*))*', '', rev)\n",
        "            rev = re.sub('[^A-Za-z\\s]+', \"\", rev)\n",
        "            rev = rev.lower()\n",
        "            rev = rev.split()\n",
        "            rev = [self.lemmatizer.lemmatize(word) for word in rev if word not in self.stopwords]\n",
        "            rev = ' '.join(rev)\n",
        "            filler = re.compile(self.fillerword_reg)\n",
        "            rev = filler.sub(\"\", rev)\n",
        "            cleaned_data.append(rev)\n",
        "        return cleaned_data\n",
        "\n",
        "# Definir X e Y\n",
        "X = df['Textos_espanol']  # Columna de textos\n",
        "Y = df['sdg']  # Columna de etiquetas\n",
        "\n",
        "# Codificación de etiquetas\n",
        "encoder = LabelEncoder()\n",
        "Y = encoder.fit_transform(Y)\n",
        "\n",
        "# Pipeline\n",
        "pipeline = Pipeline([\n",
        "    ('cleaning', CustomPreprocessor()),  # Limpieza de los textos\n",
        "    ('vectorizer', TfidfVectorizer(max_features=3000, min_df=3, max_df=0.6)),  # Vectorización con Tfidf\n",
        "    ('model', MultinomialNB())  # Modelo Multinomial Naive Bayes\n",
        "])\n",
        "\n",
        "# División de los datos en entrenamiento y prueba\n",
        "X_train, X_test, y_train, y_test = train_test_split(X, Y, test_size=0.33, random_state=15)\n",
        "\n",
        "# Ajustar el pipeline\n",
        "pipeline.fit(X_train, y_train)\n",
        "\n",
        "# Predicción y evaluación\n",
        "y_train_pred = pipeline.predict(X_train)\n",
        "y_test_pred = pipeline.predict(X_test)\n",
        "\n",
        "# Mostrar las predicciones\n",
        "print(\"Train accuracy:\", accuracy_score(y_train, y_train_pred))\n",
        "print(\"Test accuracy:\", accuracy_score(y_test, y_test_pred))"
      ],
      "metadata": {
        "id": "LG4P2ihr9MNu",
        "colab": {
          "base_uri": "https://localhost:8080/"
        },
        "outputId": "9bd47e5e-dcd6-406d-bb99-9e40cb80ed8e"
      },
      "execution_count": 66,
      "outputs": [
        {
          "output_type": "stream",
          "name": "stdout",
          "text": [
            "Train accuracy: 0.9837758112094396\n",
            "Test accuracy: 0.9663425579655947\n"
          ]
        }
      ]
    },
    {
      "cell_type": "markdown",
      "source": [
        "# 3. Testear el funcionamineto del pipeline"
      ],
      "metadata": {
        "id": "Z05XCFc0aSiW"
      }
    },
    {
      "cell_type": "code",
      "source": [
        "# Mapa inverso para convertir 0, 1, 2 de vuelta a 3, 4, 5 después de la predicción\n",
        "reverse_label_map = {0: 3, 1: 4, 2: 5}\n",
        "\n",
        "# Seleccionar la columna de textos en español\n",
        "X_predict = df_predecir['Textos_espanol']\n",
        "\n",
        "# Vectorizar los textos no etiquetados\n",
        "vectors = pipeline.named_steps['vectorizer'].transform(X_predict)\n",
        "\n",
        "# Realizar las predicciones utilizando el modelo entrenado\n",
        "predictions = pipeline.named_steps['model'].predict(vectors)\n",
        "\n",
        "# Convertir las predicciones de vuelta a 3, 4, 5\n",
        "predictions_decoded = pd.Series(predictions).map(reverse_label_map)\n",
        "\n",
        "# Agregar las predicciones decodificadas al DataFrame original de datos no etiquetados\n",
        "df_predecir['sdg'] = predictions_decoded"
      ],
      "metadata": {
        "id": "ARrO_3ME9MLR"
      },
      "execution_count": 67,
      "outputs": []
    },
    {
      "cell_type": "code",
      "source": [
        "# Ver las primeras predicciones\n",
        "print(predictions)"
      ],
      "metadata": {
        "id": "KIVeN5cG9MI-",
        "colab": {
          "base_uri": "https://localhost:8080/"
        },
        "outputId": "1aebdb79-fb10-4a9b-b9c5-f6bdac665575"
      },
      "execution_count": 68,
      "outputs": [
        {
          "output_type": "stream",
          "name": "stdout",
          "text": [
            "[2 0 1 0 1 2 2 0 2 1 1 0 2 0 2 0 1 2 0 1 2 1 0 0 1 0 2 0 1 1 2 1 0 1 0 1 0\n",
            " 2 0 1 2 1 1 2 0 1 0 1 0 0 1 0 1 1 1 2 0 1 0 2 1 0 0 0 2 0 2 0 2 2 0 1 1 1\n",
            " 1 2 2 2 1 1 0 0 0 2 2 2 1 1 2 2 2 1 2 2 2 2 2 1 2 1 2 0 2 2 1 2 2 2 1 1 1\n",
            " 2 2 1 1 2 2 2 2 1 0 0 2 2 0 1 2 2 2 2 0 1 1 2 2 1 2 1 0 2 2 2 2 1 1 1 0 0\n",
            " 0 1 2 0 2 0 2 0 2 1 2 2 2 2 0 1 2 2 0 0 1 2 1 1 2 1 1 0 1 2 0 1 2 0 1 0 2\n",
            " 1 2 2 1 2 2 2 2 1 2 1 1 2 2 2 1 2 1 2 2 0 1 1 2 0 1 1 2 2 0 2 0 0 2 2 0 2\n",
            " 1 1 1 2 0 0 2 1 1 0 2 2 0 1 2 2 1 2 0 0 0 1 2 1 2 1 2 1 2 2 1 0 0 2 2 1 0\n",
            " 2 2 2 2 1 1 0 1 2 1 2 1 2 0 1 2 2 1 2 2 2 2 2 2 2 2 0 1 2 0 2 1 1 2 0 2 1\n",
            " 2 2 2 0 0 2 0 2 2 0 0 2 2 0 2 2 2 0 0 2 1 2 1 2 1 0 2 0 2 0 2 2 2 0 0 2 2\n",
            " 0 1 2 2 2 2 1 2 2 0 1 1 1 2 2 1 2 2 1 0 1 2 2 2 2 2 0 2 2 2 1 2 0 0 1 2 0\n",
            " 2 1 1 2 2 1 2 2 1 1 1 2 0 1 2 2 2 1 0 2 0 2 0 0 0 0 1 2 2 0 2 2 2 2 1 2 0\n",
            " 0 1 0 1 2 0 2 1 2 1 1 1 1 2 2 1 2 1 2 2 1 0 2 2 1 2 1 2 2 0 2 1 2 1 2 1 2\n",
            " 0 1 1 2 2 0 2 2 2 0 1 2 2 2 2 2 0 1 1 2 2 2 1 2 2 0 2 1 1 0 2 2 2 0 2 0 1\n",
            " 2 0 2 2 2 1 0 0 0 2 2 2 0 2 0 2 0 1 2 1 2 1 2 2 0 2 2 0 1 1 1 2 2 1 2 2 0\n",
            " 1 0 1 2 1 2 2 1 2 2 2 1 2 2 2 2 2 0 2 2 0 2 2 2 0 2 2 2 2 2 0 2 2 0 2 2 2\n",
            " 2 2 2 0 2 1 2 2 0 2 2 1 2 2 0 2 2 0 0 2 2 0 2 2 2 0 2 2 2 2 2 2 2 0 2 1 2\n",
            " 2 2 2 2 0 2 0 2 0 2 0 0 0 2 0 1 1 1 2 0 0 2 2 2 2 0 2 1 2 1 2 0 2 0 2 2 2\n",
            " 0 1 2 2 2 0 1 2 2 0 2 2 2 2 1 1 1 2 1 1 2 2 2 1 2 2 2 2 2 2 2 2 0 2 2 0 0\n",
            " 0 2 0 0 2 0 2 2 2 2 1 2 1 0 1 0 0 0 2 2 2 1 1 2 1 0 2 2 2 1 1 0 2 1 0 1]\n"
          ]
        }
      ]
    },
    {
      "cell_type": "code",
      "source": [
        "# Guardar el DataFrame con las predicciones en un nuevo archivo\n",
        "df_predecir.to_excel('archivo_con_predicciones_no_etiquetados.xlsx', index=False)\n",
        "\n",
        "print(\"Predicciones guardadas exitosamente en archivo_con_predicciones_no_etiquetados.xlsx\")"
      ],
      "metadata": {
        "id": "-QY0UGp29MGj",
        "colab": {
          "base_uri": "https://localhost:8080/"
        },
        "outputId": "b0f3f1dc-c814-4f47-c386-c234d213990c"
      },
      "execution_count": 69,
      "outputs": [
        {
          "output_type": "stream",
          "name": "stdout",
          "text": [
            "Predicciones guardadas exitosamente en archivo_con_predicciones_no_etiquetados.xlsx\n"
          ]
        }
      ]
    },
    {
      "cell_type": "code",
      "source": [
        "# Revisión de las primeras filas del DataFrame con las predicciones\n",
        "df_predecir.head()"
      ],
      "metadata": {
        "id": "GWmmIP8S9MEO",
        "colab": {
          "base_uri": "https://localhost:8080/",
          "height": 206
        },
        "outputId": "bd10d3f1-0007-4723-be5f-7a90da95fcc7"
      },
      "execution_count": 70,
      "outputs": [
        {
          "output_type": "execute_result",
          "data": {
            "text/plain": [
              "                                      Textos_espanol  sdg\n",
              "0   Han examinado la contribución de las universi...    5\n",
              "1  En la ltima dcada, y en particular desde 2010,...    3\n",
              "2  En qu pases los estudiantes de alto rendimient...    4\n",
              "3  A raz de su preocupacin por el hecho de que lo...    3\n",
              "4  1999|H5|, Ares Abalde, 2014[ij]. El pequeo nme...    4"
            ],
            "text/html": [
              "\n",
              "  <div id=\"df-d1c82ca3-90e0-4f56-b820-a79b7516a4bc\" class=\"colab-df-container\">\n",
              "    <div>\n",
              "<style scoped>\n",
              "    .dataframe tbody tr th:only-of-type {\n",
              "        vertical-align: middle;\n",
              "    }\n",
              "\n",
              "    .dataframe tbody tr th {\n",
              "        vertical-align: top;\n",
              "    }\n",
              "\n",
              "    .dataframe thead th {\n",
              "        text-align: right;\n",
              "    }\n",
              "</style>\n",
              "<table border=\"1\" class=\"dataframe\">\n",
              "  <thead>\n",
              "    <tr style=\"text-align: right;\">\n",
              "      <th></th>\n",
              "      <th>Textos_espanol</th>\n",
              "      <th>sdg</th>\n",
              "    </tr>\n",
              "  </thead>\n",
              "  <tbody>\n",
              "    <tr>\n",
              "      <th>0</th>\n",
              "      <td>Han examinado la contribución de las universi...</td>\n",
              "      <td>5</td>\n",
              "    </tr>\n",
              "    <tr>\n",
              "      <th>1</th>\n",
              "      <td>En la ltima dcada, y en particular desde 2010,...</td>\n",
              "      <td>3</td>\n",
              "    </tr>\n",
              "    <tr>\n",
              "      <th>2</th>\n",
              "      <td>En qu pases los estudiantes de alto rendimient...</td>\n",
              "      <td>4</td>\n",
              "    </tr>\n",
              "    <tr>\n",
              "      <th>3</th>\n",
              "      <td>A raz de su preocupacin por el hecho de que lo...</td>\n",
              "      <td>3</td>\n",
              "    </tr>\n",
              "    <tr>\n",
              "      <th>4</th>\n",
              "      <td>1999|H5|, Ares Abalde, 2014[ij]. El pequeo nme...</td>\n",
              "      <td>4</td>\n",
              "    </tr>\n",
              "  </tbody>\n",
              "</table>\n",
              "</div>\n",
              "    <div class=\"colab-df-buttons\">\n",
              "\n",
              "  <div class=\"colab-df-container\">\n",
              "    <button class=\"colab-df-convert\" onclick=\"convertToInteractive('df-d1c82ca3-90e0-4f56-b820-a79b7516a4bc')\"\n",
              "            title=\"Convert this dataframe to an interactive table.\"\n",
              "            style=\"display:none;\">\n",
              "\n",
              "  <svg xmlns=\"http://www.w3.org/2000/svg\" height=\"24px\" viewBox=\"0 -960 960 960\">\n",
              "    <path d=\"M120-120v-720h720v720H120Zm60-500h600v-160H180v160Zm220 220h160v-160H400v160Zm0 220h160v-160H400v160ZM180-400h160v-160H180v160Zm440 0h160v-160H620v160ZM180-180h160v-160H180v160Zm440 0h160v-160H620v160Z\"/>\n",
              "  </svg>\n",
              "    </button>\n",
              "\n",
              "  <style>\n",
              "    .colab-df-container {\n",
              "      display:flex;\n",
              "      gap: 12px;\n",
              "    }\n",
              "\n",
              "    .colab-df-convert {\n",
              "      background-color: #E8F0FE;\n",
              "      border: none;\n",
              "      border-radius: 50%;\n",
              "      cursor: pointer;\n",
              "      display: none;\n",
              "      fill: #1967D2;\n",
              "      height: 32px;\n",
              "      padding: 0 0 0 0;\n",
              "      width: 32px;\n",
              "    }\n",
              "\n",
              "    .colab-df-convert:hover {\n",
              "      background-color: #E2EBFA;\n",
              "      box-shadow: 0px 1px 2px rgba(60, 64, 67, 0.3), 0px 1px 3px 1px rgba(60, 64, 67, 0.15);\n",
              "      fill: #174EA6;\n",
              "    }\n",
              "\n",
              "    .colab-df-buttons div {\n",
              "      margin-bottom: 4px;\n",
              "    }\n",
              "\n",
              "    [theme=dark] .colab-df-convert {\n",
              "      background-color: #3B4455;\n",
              "      fill: #D2E3FC;\n",
              "    }\n",
              "\n",
              "    [theme=dark] .colab-df-convert:hover {\n",
              "      background-color: #434B5C;\n",
              "      box-shadow: 0px 1px 3px 1px rgba(0, 0, 0, 0.15);\n",
              "      filter: drop-shadow(0px 1px 2px rgba(0, 0, 0, 0.3));\n",
              "      fill: #FFFFFF;\n",
              "    }\n",
              "  </style>\n",
              "\n",
              "    <script>\n",
              "      const buttonEl =\n",
              "        document.querySelector('#df-d1c82ca3-90e0-4f56-b820-a79b7516a4bc button.colab-df-convert');\n",
              "      buttonEl.style.display =\n",
              "        google.colab.kernel.accessAllowed ? 'block' : 'none';\n",
              "\n",
              "      async function convertToInteractive(key) {\n",
              "        const element = document.querySelector('#df-d1c82ca3-90e0-4f56-b820-a79b7516a4bc');\n",
              "        const dataTable =\n",
              "          await google.colab.kernel.invokeFunction('convertToInteractive',\n",
              "                                                    [key], {});\n",
              "        if (!dataTable) return;\n",
              "\n",
              "        const docLinkHtml = 'Like what you see? Visit the ' +\n",
              "          '<a target=\"_blank\" href=https://colab.research.google.com/notebooks/data_table.ipynb>data table notebook</a>'\n",
              "          + ' to learn more about interactive tables.';\n",
              "        element.innerHTML = '';\n",
              "        dataTable['output_type'] = 'display_data';\n",
              "        await google.colab.output.renderOutput(dataTable, element);\n",
              "        const docLink = document.createElement('div');\n",
              "        docLink.innerHTML = docLinkHtml;\n",
              "        element.appendChild(docLink);\n",
              "      }\n",
              "    </script>\n",
              "  </div>\n",
              "\n",
              "\n",
              "<div id=\"df-d87cab53-995b-4a30-b552-ddec5feea65b\">\n",
              "  <button class=\"colab-df-quickchart\" onclick=\"quickchart('df-d87cab53-995b-4a30-b552-ddec5feea65b')\"\n",
              "            title=\"Suggest charts\"\n",
              "            style=\"display:none;\">\n",
              "\n",
              "<svg xmlns=\"http://www.w3.org/2000/svg\" height=\"24px\"viewBox=\"0 0 24 24\"\n",
              "     width=\"24px\">\n",
              "    <g>\n",
              "        <path d=\"M19 3H5c-1.1 0-2 .9-2 2v14c0 1.1.9 2 2 2h14c1.1 0 2-.9 2-2V5c0-1.1-.9-2-2-2zM9 17H7v-7h2v7zm4 0h-2V7h2v10zm4 0h-2v-4h2v4z\"/>\n",
              "    </g>\n",
              "</svg>\n",
              "  </button>\n",
              "\n",
              "<style>\n",
              "  .colab-df-quickchart {\n",
              "      --bg-color: #E8F0FE;\n",
              "      --fill-color: #1967D2;\n",
              "      --hover-bg-color: #E2EBFA;\n",
              "      --hover-fill-color: #174EA6;\n",
              "      --disabled-fill-color: #AAA;\n",
              "      --disabled-bg-color: #DDD;\n",
              "  }\n",
              "\n",
              "  [theme=dark] .colab-df-quickchart {\n",
              "      --bg-color: #3B4455;\n",
              "      --fill-color: #D2E3FC;\n",
              "      --hover-bg-color: #434B5C;\n",
              "      --hover-fill-color: #FFFFFF;\n",
              "      --disabled-bg-color: #3B4455;\n",
              "      --disabled-fill-color: #666;\n",
              "  }\n",
              "\n",
              "  .colab-df-quickchart {\n",
              "    background-color: var(--bg-color);\n",
              "    border: none;\n",
              "    border-radius: 50%;\n",
              "    cursor: pointer;\n",
              "    display: none;\n",
              "    fill: var(--fill-color);\n",
              "    height: 32px;\n",
              "    padding: 0;\n",
              "    width: 32px;\n",
              "  }\n",
              "\n",
              "  .colab-df-quickchart:hover {\n",
              "    background-color: var(--hover-bg-color);\n",
              "    box-shadow: 0 1px 2px rgba(60, 64, 67, 0.3), 0 1px 3px 1px rgba(60, 64, 67, 0.15);\n",
              "    fill: var(--button-hover-fill-color);\n",
              "  }\n",
              "\n",
              "  .colab-df-quickchart-complete:disabled,\n",
              "  .colab-df-quickchart-complete:disabled:hover {\n",
              "    background-color: var(--disabled-bg-color);\n",
              "    fill: var(--disabled-fill-color);\n",
              "    box-shadow: none;\n",
              "  }\n",
              "\n",
              "  .colab-df-spinner {\n",
              "    border: 2px solid var(--fill-color);\n",
              "    border-color: transparent;\n",
              "    border-bottom-color: var(--fill-color);\n",
              "    animation:\n",
              "      spin 1s steps(1) infinite;\n",
              "  }\n",
              "\n",
              "  @keyframes spin {\n",
              "    0% {\n",
              "      border-color: transparent;\n",
              "      border-bottom-color: var(--fill-color);\n",
              "      border-left-color: var(--fill-color);\n",
              "    }\n",
              "    20% {\n",
              "      border-color: transparent;\n",
              "      border-left-color: var(--fill-color);\n",
              "      border-top-color: var(--fill-color);\n",
              "    }\n",
              "    30% {\n",
              "      border-color: transparent;\n",
              "      border-left-color: var(--fill-color);\n",
              "      border-top-color: var(--fill-color);\n",
              "      border-right-color: var(--fill-color);\n",
              "    }\n",
              "    40% {\n",
              "      border-color: transparent;\n",
              "      border-right-color: var(--fill-color);\n",
              "      border-top-color: var(--fill-color);\n",
              "    }\n",
              "    60% {\n",
              "      border-color: transparent;\n",
              "      border-right-color: var(--fill-color);\n",
              "    }\n",
              "    80% {\n",
              "      border-color: transparent;\n",
              "      border-right-color: var(--fill-color);\n",
              "      border-bottom-color: var(--fill-color);\n",
              "    }\n",
              "    90% {\n",
              "      border-color: transparent;\n",
              "      border-bottom-color: var(--fill-color);\n",
              "    }\n",
              "  }\n",
              "</style>\n",
              "\n",
              "  <script>\n",
              "    async function quickchart(key) {\n",
              "      const quickchartButtonEl =\n",
              "        document.querySelector('#' + key + ' button');\n",
              "      quickchartButtonEl.disabled = true;  // To prevent multiple clicks.\n",
              "      quickchartButtonEl.classList.add('colab-df-spinner');\n",
              "      try {\n",
              "        const charts = await google.colab.kernel.invokeFunction(\n",
              "            'suggestCharts', [key], {});\n",
              "      } catch (error) {\n",
              "        console.error('Error during call to suggestCharts:', error);\n",
              "      }\n",
              "      quickchartButtonEl.classList.remove('colab-df-spinner');\n",
              "      quickchartButtonEl.classList.add('colab-df-quickchart-complete');\n",
              "    }\n",
              "    (() => {\n",
              "      let quickchartButtonEl =\n",
              "        document.querySelector('#df-d87cab53-995b-4a30-b552-ddec5feea65b button');\n",
              "      quickchartButtonEl.style.display =\n",
              "        google.colab.kernel.accessAllowed ? 'block' : 'none';\n",
              "    })();\n",
              "  </script>\n",
              "</div>\n",
              "\n",
              "    </div>\n",
              "  </div>\n"
            ],
            "application/vnd.google.colaboratory.intrinsic+json": {
              "type": "dataframe",
              "variable_name": "df_predecir",
              "summary": "{\n  \"name\": \"df_predecir\",\n  \"rows\": 702,\n  \"fields\": [\n    {\n      \"column\": \"Textos_espanol\",\n      \"properties\": {\n        \"dtype\": \"string\",\n        \"num_unique_values\": 702,\n        \"samples\": [\n          \"Un posible punto dbil es que solo hay un tope para los cargos para los enfermos crnicos. Ampliar este tope a la poblacin en general reducira potencialmente el riesgo de que los hogares de bajos ingresos (particularmente los grandes) se vean disuadidos de acceder al sistema de salud. Finalmente, los copagos por los servicios del NHI no deben ser el nico enfoque, ya que los pagos directos vinculados a Shaban o al seguro comercial tambin pueden ser significativos para aquellos hogares que gastan una parte sustancial de sus ingresos en servicios de atencin mdica. Un enfoque es basar la elegibilidad en si los individuos (u hogares) reciben el beneficio de Apoyo a los Ingresos del Instituto Nacional de Seguros (Nil's) (o el Suplemento de Ingresos en el caso de los pensionistas). Sin embargo, los criterios de elegibilidad para este apoyo son tan estrictos que una parte significativa de los hogares de bajos ingresos no recibe estos beneficios. Claramente, el acceso a la atencin de la salud se fortalecera si se ampliara el acceso a ellos, como se ha sugerido en otros anlisis de la OCDE (OCDE, 2010a, 2010b y 2011b).\",\n          \"Los flujos de ayuda restantes que no se compararon con el marcador se atribuyeron principalmente a los informes de los Estados Unidos. Los otros 23 miembros del DAC combinaron un total del 92% de su ayuda. Canad se destaca como la excepcin en este sentido, con el 42,4% de su ayuda dirigida a la igualdad de gnero como objetivo principal.\",\n          \"Considera que el Nivel 2 en lectura y matemticas es el nivel mnimo de competencia necesario para que los alumnos participen plenamente en la sociedad del conocimiento (vase la seccin Definiciones). En Estonia, Finlandia y Japn, al menos el 83% de los alumnos alcanzan el Nivel 2 o superior tanto en lectura como en matemticas, mientras que menos del 35% de los alumnos lo hacen en Brasil, Colombia y Costa Rica. Sin embargo, PISA tambin muestra sistemticamente que un alto rendimiento y una mayor equidad no son mutuamente excluyentes (Figura 2). De hecho, poder mejorar el rendimiento de todos los estudiantes, independientemente de su origen, es necesario para que los pases se conviertan en pases de alto rendimiento y alcancen las metas del ODS 4. \"\n        ],\n        \"semantic_type\": \"\",\n        \"description\": \"\"\n      }\n    },\n    {\n      \"column\": \"sdg\",\n      \"properties\": {\n        \"dtype\": \"number\",\n        \"std\": 0,\n        \"min\": 3,\n        \"max\": 5,\n        \"num_unique_values\": 3,\n        \"samples\": [\n          5,\n          3,\n          4\n        ],\n        \"semantic_type\": \"\",\n        \"description\": \"\"\n      }\n    }\n  ]\n}"
            }
          },
          "metadata": {},
          "execution_count": 70
        }
      ]
    },
    {
      "cell_type": "markdown",
      "source": [
        "# 4. Persistencia del modelo"
      ],
      "metadata": {
        "id": "YGd27H5T0dWR"
      }
    },
    {
      "cell_type": "code",
      "source": [
        "from joblib import dump, load"
      ],
      "metadata": {
        "id": "crdTfiamqGzR"
      },
      "execution_count": 71,
      "outputs": []
    },
    {
      "cell_type": "code",
      "source": [
        "filename = \"ModeloODS.joblib\"\n",
        "dump(pipeline, filename)"
      ],
      "metadata": {
        "colab": {
          "base_uri": "https://localhost:8080/"
        },
        "id": "qWyLjxoNqIvt",
        "outputId": "51a45f5f-a512-4fe6-8869-d6e5714d1ce1"
      },
      "execution_count": 72,
      "outputs": [
        {
          "output_type": "execute_result",
          "data": {
            "text/plain": [
              "['ModeloODS.joblib']"
            ]
          },
          "metadata": {},
          "execution_count": 72
        }
      ]
    }
  ]
}