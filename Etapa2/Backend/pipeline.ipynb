{
  "nbformat": 4,
  "nbformat_minor": 0,
  "metadata": {
    "colab": {
      "provenance": []
    },
    "kernelspec": {
      "name": "python3",
      "display_name": "Python 3"
    },
    "language_info": {
      "name": "python"
    }
  },
  "cells": [
    {
      "cell_type": "markdown",
      "source": [
        "# Pipeline"
      ],
      "metadata": {
        "id": "0yK4HCOPt506"
      }
    },
    {
      "cell_type": "code",
      "source": [
        "#Instalaciones\n",
        "import nltk\n",
        "\n",
        "import tabulate\n",
        "import pandas as pd\n",
        "import plotly.express as px\n",
        "from nltk.corpus import stopwords\n",
        "\n",
        "import re\n",
        "from typing_extensions import *\n",
        "from typing import *\n",
        "\n",
        "import numpy as np\n",
        "import pandas as pd\n",
        "import re\n",
        "import plotly.express as px\n",
        "\n",
        "\n",
        "from sklearn.linear_model import LogisticRegression\n",
        "from sklearn.metrics import accuracy_score\n",
        "from sklearn.metrics import recall_score\n",
        "from sklearn.metrics import f1_score\n",
        "from nltk.corpus import stopwords\n",
        "from nltk.stem import SnowballStemmer\n",
        "from sklearn.feature_extraction.text import TfidfVectorizer\n",
        "from sklearn.model_selection import train_test_split\n",
        "from sklearn.preprocessing import LabelEncoder\n",
        "from sklearn.feature_extraction.text import CountVectorizer\n",
        "from sklearn.feature_extraction.text import TfidfTransformer\n",
        "from sklearn.naive_bayes import MultinomialNB\n",
        "from sklearn.metrics import accuracy_score\n",
        "from nltk.stem import WordNetLemmatizer\n",
        "\n",
        "lemmatizer = WordNetLemmatizer()\n",
        "nltk.download('stopwords')\n",
        "nltk.download('stopwords')\n",
        "nltk.download('wordnet')\n",
        "\n",
        "import string\n",
        "\n",
        "from sklearn.pipeline import Pipeline\n",
        "from sklearn.base import BaseEstimator, TransformerMixin"
      ],
      "metadata": {
        "colab": {
          "base_uri": "https://localhost:8080/"
        },
        "id": "nWzeJWC7t5Jx",
        "outputId": "7aab8005-d880-412b-e7b2-41d1b7519d1b"
      },
      "execution_count": null,
      "outputs": [
        {
          "output_type": "stream",
          "name": "stderr",
          "text": [
            "[nltk_data] Downloading package stopwords to /root/nltk_data...\n",
            "[nltk_data]   Package stopwords is already up-to-date!\n",
            "[nltk_data] Downloading package stopwords to /root/nltk_data...\n",
            "[nltk_data]   Package stopwords is already up-to-date!\n",
            "[nltk_data] Downloading package wordnet to /root/nltk_data...\n",
            "[nltk_data]   Package wordnet is already up-to-date!\n"
          ]
        }
      ]
    },
    {
      "cell_type": "markdown",
      "source": [
        "# 1. Lectura de datos"
      ],
      "metadata": {
        "id": "81fSqzqSu1mu"
      }
    },
    {
      "cell_type": "code",
      "source": [
        "GITHUB_URL: Final[str] = 'https://raw.githubusercontent.com/LoganTaurus/DB-Project-01/main/'"
      ],
      "metadata": {
        "id": "KVasxc3ou56r"
      },
      "execution_count": null,
      "outputs": []
    },
    {
      "cell_type": "markdown",
      "source": [
        "## Carga de datos de Entrenamiento"
      ],
      "metadata": {
        "id": "kSTJn-CM_7XA"
      }
    },
    {
      "cell_type": "code",
      "source": [
        "# Leer el archivo XLSX\n",
        "df = pd.read_excel(GITHUB_URL + 'ODScat-345.xlsx')\n",
        "\n",
        "# Si hay problemas de codificación, puedes intentar corregirlos\n",
        "df = df.applymap(lambda x: x.encode('latin1', errors='ignore').decode('utf-8', errors='ignore') if isinstance(x, str) else x)\n",
        "\n",
        "# Guardar el archivo corregido\n",
        "df.to_excel('archivo_corregido.xlsx', index=False)"
      ],
      "metadata": {
        "colab": {
          "base_uri": "https://localhost:8080/"
        },
        "id": "0juJoeiawDT9",
        "outputId": "8bef1c53-c862-4d1c-fade-f5014f07a4ef"
      },
      "execution_count": null,
      "outputs": [
        {
          "output_type": "stream",
          "name": "stderr",
          "text": [
            "<ipython-input-22-fafc6660baa3>:5: FutureWarning:\n",
            "\n",
            "DataFrame.applymap has been deprecated. Use DataFrame.map instead.\n",
            "\n"
          ]
        }
      ]
    },
    {
      "cell_type": "markdown",
      "source": [
        "## Carga de datos a predecir"
      ],
      "metadata": {
        "id": "XIKvK0cXADt0"
      }
    },
    {
      "cell_type": "code",
      "source": [
        "# Leer el archivo XLSX\n",
        "df_predecir = pd.read_excel(GITHUB_URL + 'TestODScat-345.xlsx')\n",
        "\n",
        "# Si hay problemas de codificación, puedes intentar corregirlos\n",
        "df_predecir = df_predecir.applymap(lambda x: x.encode('latin1', errors='ignore').decode('utf-8', errors='ignore') if isinstance(x, str) else x)\n",
        "\n",
        "# Guardar el archivo corregido\n",
        "df_predecir.to_excel('archivo_corregido_no_etiquetados.xlsx', index=False)"
      ],
      "metadata": {
        "id": "aq5qU4FiADE2"
      },
      "execution_count": null,
      "outputs": []
    },
    {
      "cell_type": "markdown",
      "source": [
        "# 2. Construcción del pipeline"
      ],
      "metadata": {
        "id": "zGUhyzn7wID5"
      }
    },
    {
      "cell_type": "code",
      "source": [
        "# Clase personalizada para la limpieza de datos\n",
        "class CustomPreprocessor(BaseEstimator, TransformerMixin):\n",
        "    def __init__(self):\n",
        "        self.lemmatizer = WordNetLemmatizer()\n",
        "        self.stopwords = set(stopwords.words('spanish'))\n",
        "        fillerWord =  (\"Eh\",\"Mmm\",\"Pues\",\"Bueno\",\"Este\",\"Como\",\"Entonces\",\"O sea\",\"Tipo\",\"¿Sabes?\",\"En fin\",\"¿Entiendes?\",\"Vale\",\"La cosa es que\", \"¿Verdad?\")\n",
        "        self.fillerword_reg= r\"\\b(Eh|Mmm|Pues|Bueno|Este|Como|Entonces|O\\s+sea|Tipo|¿Sabes?|En\\s+fin|¿Entiendes?|Vale|La\\s+cosa\\s+es\\s+que|¿Verdad?)\\b\"\n",
        "        remove = [\"no\", \"ni\", \"tampoco\", \"jamás\", \"nunca\", \"nadie\", \"ninguno\", \"ningún\", \"nada\"]\n",
        "        for word in remove:\n",
        "            self.stopwords.discard(word)\n",
        "        self.stopwords.add(fillerWord)\n",
        "\n",
        "    def fit(self, X, y=None):\n",
        "        return self\n",
        "\n",
        "    def transform(self, X):\n",
        "        cleaned_data = []\n",
        "        for text in X:\n",
        "            rev = re.sub(\"#\", \"\", text)\n",
        "            rev = re.sub(r'^https?:\\/\\/.*[\\r\\n]*', '', rev, flags=re.MULTILINE)\n",
        "            html = re.compile(r'<.*?>')\n",
        "            rev = html.sub(r\"\", rev)\n",
        "            rev = re.sub(r'@\\w+', \"\", rev)\n",
        "            rev = re.sub(r'#\\w+', \"\", rev)\n",
        "            rev = re.sub(r'\\w+:\\/{2}[\\d\\w-]+(\\.[\\d\\w-]+)*(?:(?:\\/[^\\s/]*))*', '', rev)\n",
        "            rev = re.sub('[^A-Za-z\\s]+', \"\", rev)\n",
        "            rev = rev.lower()\n",
        "            rev = rev.split()\n",
        "            rev = [self.lemmatizer.lemmatize(word) for word in rev if word not in self.stopwords]\n",
        "            rev = ' '.join(rev)\n",
        "            filler = re.compile(self.fillerword_reg)\n",
        "            rev = filler.sub(\"\", rev)\n",
        "            cleaned_data.append(rev)\n",
        "        return cleaned_data\n",
        "\n",
        "\n",
        "# Codificación de etiquetas\n",
        "encoder = LabelEncoder()\n",
        "Y = encoder.fit_transform(Y)\n",
        "\n",
        "# Pipeline\n",
        "pipeline = Pipeline([\n",
        "    ('cleaning', CustomPreprocessor()),  # Limpieza de los textos\n",
        "    ('vectorizer', TfidfVectorizer(max_features=3000, min_df=3, max_df=0.6)),  # Vectorización con Tfidf\n",
        "    ('model', MultinomialNB())  # Modelo Multinomial Naive Bayes\n",
        "])\n",
        "\n",
        "# División de los datos en entrenamiento y prueba\n",
        "X_train, X_test, y_train, y_test = train_test_split(X, Y, test_size=0.33, random_state=15)\n",
        "\n",
        "# Ajustar el pipeline\n",
        "pipeline.fit(X_train, y_train)\n",
        "\n",
        "# Predicción y evaluación\n",
        "y_train_pred = pipeline.predict(X_train)\n",
        "y_test_pred = pipeline.predict(X_test)"
      ],
      "metadata": {
        "id": "LG4P2ihr9MNu"
      },
      "execution_count": null,
      "outputs": []
    },
    {
      "cell_type": "markdown",
      "source": [
        "# 3. Testear el funcionamineto del pipeline"
      ],
      "metadata": {
        "id": "Z05XCFc0aSiW"
      }
    },
    {
      "cell_type": "code",
      "source": [],
      "metadata": {
        "id": "ARrO_3ME9MLR"
      },
      "execution_count": null,
      "outputs": []
    },
    {
      "cell_type": "code",
      "source": [],
      "metadata": {
        "id": "KIVeN5cG9MI-"
      },
      "execution_count": null,
      "outputs": []
    },
    {
      "cell_type": "code",
      "source": [],
      "metadata": {
        "id": "-QY0UGp29MGj"
      },
      "execution_count": null,
      "outputs": []
    },
    {
      "cell_type": "code",
      "source": [],
      "metadata": {
        "id": "GWmmIP8S9MEO"
      },
      "execution_count": null,
      "outputs": []
    },
    {
      "cell_type": "code",
      "source": [],
      "metadata": {
        "id": "J8vpeYDR9MBm"
      },
      "execution_count": null,
      "outputs": []
    },
    {
      "cell_type": "code",
      "source": [],
      "metadata": {
        "id": "ebzDNkHY9LpV"
      },
      "execution_count": null,
      "outputs": []
    },
    {
      "cell_type": "code",
      "source": [
        "def data_cleaning(data):\n",
        "    cleaned_data = []\n",
        "    fillerWord =  (\"Eh\",\"Mmm\",\"Pues\",\"Bueno\",\"Este\",\"Como\",\"Entonces\",\"O sea\",\"Tipo\",\"¿Sabes?\",\"En fin\",\"¿Entiendes?\",\"Vale\",\"La cosa es que\", \"¿Verdad?\")\n",
        "    fillerword_reg= r\"\\b(Eh|Mmm|Pues|Bueno|Este|Como|Entonces|O\\s+sea|Tipo|¿Sabes?|En\\s+fin|¿Entiendes?|Vale|La\\s+cosa\\s+es\\s+que|¿Verdad?)\\b\"\n",
        "    STOPWORDS = set(stopwords.words('spanish'))\n",
        "    remove = [\"no\", \"ni\", \"tampoco\", \"jamás\", \"nunca\", \"nadie\", \"ninguno\", \"ningún\", \"nada\"]\n",
        "    for i in remove:\n",
        "        STOPWORDS.discard(i)\n",
        "\n",
        "    STOPWORDS.add(fillerWord)\n",
        "    for i in range(len(data)):\n",
        "        rev = re.sub(\"#\", \"\", data[i])\n",
        "        rev = re.sub(r'^https?:\\/\\/.*[\\r\\n]*', '',rev, flags=re.MULTILINE)\n",
        "        html=re.compile(r'<.*?>')\n",
        "        rev =html.sub(r\"\", rev)\n",
        "        rev=re.sub(r'@\\w+',\"\",rev)\n",
        "        rev=re.sub(r'#\\w+',\"\",rev)\n",
        "        rev=re.sub(r'\\w+:\\/{2}[\\d\\w-]+(\\.[\\d\\w-]+)*(?:(?:\\/[^\\s/]*))*', '', rev)\n",
        "        punctuation = r\"\"\"!\"#$%&'()*+,-./:;<=>?@[\\]^_`{|}~\"\"\"\n",
        "        rev.rstrip(string.punctuation)\n",
        "        rev=re.sub('[^A-Za-z\\s]+',\"\", rev)\n",
        "        rev = rev.lower()\n",
        "        rev = rev.split()\n",
        "        rev = [lemmatizer.lemmatize(word) for word in rev if not word in STOPWORDS]\n",
        "        rev = ' '.join(rev)\n",
        "        filler=re.compile(fillerword_reg)\n",
        "        rev=filler.sub(\"\",rev)\n",
        "        cleaned_data.append(rev)\n",
        "    return cleaned_data"
      ],
      "metadata": {
        "id": "94QM0T7IwK-b"
      },
      "execution_count": null,
      "outputs": []
    },
    {
      "cell_type": "code",
      "source": [
        "text_data = df['Textos_espanol'].tolist()\n",
        "texto_procesado = data_cleaning(text_data)\n",
        "limpio = pd.DataFrame(texto_procesado)\n",
        "df['Texto_limpio'] = limpio"
      ],
      "metadata": {
        "id": "rECoW3Rqwjh5"
      },
      "execution_count": null,
      "outputs": []
    },
    {
      "cell_type": "markdown",
      "source": [
        "## División de entrenamiento y prueba"
      ],
      "metadata": {
        "id": "Vn1FqZsExhFF"
      }
    },
    {
      "cell_type": "code",
      "source": [
        "X = df.Texto_limpio\n",
        "Y = df.sdg\n",
        "Y = pd.DataFrame(Y,columns=['sdg'])\n",
        "\n",
        "encoder = LabelEncoder()\n",
        "Y = encoder.fit_transform(Y)\n",
        "Y = pd.DataFrame(Y,columns=['Class'])"
      ],
      "metadata": {
        "colab": {
          "base_uri": "https://localhost:8080/"
        },
        "id": "hl0OuC3Oxkor",
        "outputId": "4cc596ff-7407-465e-e6f6-b46f596593e5"
      },
      "execution_count": null,
      "outputs": [
        {
          "output_type": "stream",
          "name": "stderr",
          "text": [
            "/usr/local/lib/python3.10/dist-packages/sklearn/preprocessing/_label.py:114: DataConversionWarning:\n",
            "\n",
            "A column-vector y was passed when a 1d array was expected. Please change the shape of y to (n_samples, ), for example using ravel().\n",
            "\n"
          ]
        }
      ]
    },
    {
      "cell_type": "markdown",
      "source": [
        "## Inicialización"
      ],
      "metadata": {
        "id": "uwoI6f7axomF"
      }
    },
    {
      "cell_type": "code",
      "source": [
        "Y['Class'].unique()\n",
        "vectorizer = CountVectorizer(max_features= 3000, min_df = 3, max_df = 0.6)\n",
        "# fit the model for training data\n",
        "X_data = vectorizer.fit_transform(X)"
      ],
      "metadata": {
        "id": "byRHXzPRxqrt"
      },
      "execution_count": null,
      "outputs": []
    },
    {
      "cell_type": "code",
      "source": [
        "transformer = TfidfTransformer()\n",
        "X_data = transformer.fit_transform(X_data).toarray()"
      ],
      "metadata": {
        "id": "T2wKCygdx4Ri"
      },
      "execution_count": null,
      "outputs": []
    },
    {
      "cell_type": "code",
      "source": [
        "from sklearn.model_selection import train_test_split\n",
        "X1_train, X1_test, y1_train, y1_test = train_test_split(X_data, Y, test_size=0.33,random_state = 15)\n",
        "model1 = MultinomialNB()\n",
        "y_train_pred = model1.fit(X1_train,y1_train.Class).predict(X1_train)\n",
        "\n",
        "y_pred = model1.predict(X1_test)\n",
        "\n",
        "from sklearn import metrics\n",
        "print(\"Multinomial Naive Bayes model train accuracy(in %):\", metrics.accuracy_score(y1_train, y_train_pred)*100)\n",
        "print(\"Multinomial Naive Bayes model test accuracy(in %):\", metrics.accuracy_score(y1_test, y_pred)*100)"
      ],
      "metadata": {
        "colab": {
          "base_uri": "https://localhost:8080/"
        },
        "id": "vX8toVZ_yCC8",
        "outputId": "ab315b78-e2bc-4a25-8b9f-5b653c906704"
      },
      "execution_count": null,
      "outputs": [
        {
          "output_type": "stream",
          "name": "stdout",
          "text": [
            "Multinomial Naive Bayes model train accuracy(in %): 98.41445427728614\n",
            "Multinomial Naive Bayes model test accuracy(in %): 96.70905011219148\n"
          ]
        }
      ]
    },
    {
      "cell_type": "code",
      "source": [
        "from sklearn.model_selection import GridSearchCV\n",
        "params = {'alpha': [0.01,1,10],}\n",
        "\n",
        "cuadricula= GridSearchCV(MultinomialNB(), param_grid=params, n_jobs=-1, cv=5, verbose=5)\n",
        "cuadricula.fit(X_data,Y)\n",
        "\n",
        "print(' Precision entrenado : %.3f'%cuadricula.best_estimator_.score(X1_train, y1_train))\n",
        "print('Precision prueba : %.3f'%cuadricula.best_estimator_.score(X1_test, y1_test))\n",
        "print('Mejor precision : %.3f'%cuadricula.best_score_)\n",
        "print('Mejores parametros : ',cuadricula.best_params_)"
      ],
      "metadata": {
        "colab": {
          "base_uri": "https://localhost:8080/"
        },
        "id": "Df3vSDSMyMOT",
        "outputId": "cc239642-e316-4f5c-e7c8-9238bd268a78"
      },
      "execution_count": null,
      "outputs": [
        {
          "output_type": "stream",
          "name": "stdout",
          "text": [
            "Fitting 5 folds for each of 3 candidates, totalling 15 fits\n",
            " Precision entrenado : 0.983\n",
            "Precision prueba : 0.978\n",
            "Mejor precision : 0.967\n",
            "Mejores parametros :  {'alpha': 1}\n"
          ]
        },
        {
          "output_type": "stream",
          "name": "stderr",
          "text": [
            "/usr/local/lib/python3.10/dist-packages/sklearn/utils/validation.py:1339: DataConversionWarning:\n",
            "\n",
            "A column-vector y was passed when a 1d array was expected. Please change the shape of y to (n_samples, ), for example using ravel().\n",
            "\n"
          ]
        }
      ]
    },
    {
      "cell_type": "markdown",
      "source": [
        "# 3. Testear el funcionamiento del pipeline"
      ],
      "metadata": {
        "id": "mTNUqnjCx_Fe"
      }
    },
    {
      "cell_type": "markdown",
      "source": [
        "# 4. Persistencia del modelo"
      ],
      "metadata": {
        "id": "YGd27H5T0dWR"
      }
    },
    {
      "cell_type": "code",
      "source": [],
      "metadata": {
        "id": "AvIUc5CV0fpr"
      },
      "execution_count": null,
      "outputs": []
    },
    {
      "cell_type": "code",
      "source": [
        "from sklearn.metrics import confusion_matrix\n",
        "import seaborn as sns\n",
        "import matplotlib.pyplot as plt\n",
        "y_pred = cuadricula.predict(X1_test)\n",
        "cm = confusion_matrix(y1_test, y_pred)\n",
        "\n",
        "sns.heatmap(cm, annot=True, fmt='d', xticklabels=encoder.classes_, yticklabels=encoder.classes_)\n",
        "\n",
        "plt.title('Confusion Matrix')\n",
        "plt.xlabel('Predicted Class')\n",
        "plt.ylabel('Actual Class')\n",
        "\n",
        "\n",
        "plt.show()"
      ],
      "metadata": {
        "colab": {
          "base_uri": "https://localhost:8080/",
          "height": 472
        },
        "id": "M6-HN98-yP6L",
        "outputId": "945fccf6-fce8-4714-ea56-aa29651b8510"
      },
      "execution_count": null,
      "outputs": [
        {
          "output_type": "display_data",
          "data": {
            "text/plain": [
              "<Figure size 640x480 with 2 Axes>"
            ],
            "image/png": "[encoded data removed]"
          },
          "metadata": {}
        }
      ]
    }
  ]
}